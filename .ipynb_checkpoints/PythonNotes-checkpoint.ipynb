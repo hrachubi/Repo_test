{
 "cells": [
  {
   "cell_type": "markdown",
   "metadata": {},
   "source": [
    "# Notes form Python learingin and *rememberning*\n",
    "\n",
    "1. Exception\n",
    "\n",
    "`raise Exception(\"nobody can go!\")`\n",
    "\n",
    "Lets check:"
   ]
  },
  {
   "cell_type": "code",
   "execution_count": 3,
   "metadata": {},
   "outputs": [
    {
     "ename": "Exception",
     "evalue": "Nobody can go!",
     "output_type": "error",
     "traceback": [
      "\u001b[1;31m---------------------------------------------------------------------------\u001b[0m",
      "\u001b[1;31mException\u001b[0m                                 Traceback (most recent call last)",
      "\u001b[1;32m<ipython-input-3-da21db94db95>\u001b[0m in \u001b[0;36m<module>\u001b[1;34m\u001b[0m\n\u001b[1;32m----> 1\u001b[1;33m \u001b[1;32mraise\u001b[0m \u001b[0mException\u001b[0m\u001b[1;33m(\u001b[0m\u001b[1;34m\"Nobody can go!\"\u001b[0m\u001b[1;33m)\u001b[0m\u001b[1;33m\u001b[0m\u001b[1;33m\u001b[0m\u001b[0m\n\u001b[0m",
      "\u001b[1;31mException\u001b[0m: Nobody can go!"
     ]
    }
   ],
   "source": [
    "raise Exception(\"Nobody can go!\")"
   ]
  },
  {
   "cell_type": "markdown",
   "metadata": {},
   "source": [
    "## Math\n",
    "In **Python** We can divide two numers in different ways:\n",
    "* `//` - division which gives whole number in result\n",
    "* `%` - divison that gives rest of division. Rest as a *whole* number\n",
    "* `/` - normal divison\n",
    "\n",
    "Examples:"
   ]
  },
  {
   "cell_type": "code",
   "execution_count": 7,
   "metadata": {},
   "outputs": [
    {
     "name": "stdout",
     "output_type": "stream",
     "text": [
      "So, if we have: \n",
      "x= 7  and y= 3\n",
      "\n",
      "x//y= 2\n",
      "x%y= 1\n",
      "x/y= 2.3333333333333335\n"
     ]
    }
   ],
   "source": [
    "x=7\n",
    "y=3\n",
    "print('So, if we have: \\nx=',x,' and y=',y)\n",
    "\n",
    "print('\\nx//y=',x//y)\n",
    "print('x%y=',x%y)\n",
    "print('x/y=',x/y)"
   ]
  },
  {
   "cell_type": "markdown",
   "metadata": {},
   "source": [
    "In math, when we make exponentiation (hard word ;) ) of negativenumbers, sign in result depends of the power of exponentiation, eg:\n",
    "\n",
    "* $-2^2=4$\n",
    "* $-2^3=-8$\n",
    "* $2^3=8$\n",
    "\n",
    "Lets check how it is lin Python"
   ]
  },
  {
   "cell_type": "code",
   "execution_count": 10,
   "metadata": {},
   "outputs": [
    {
     "name": "stdout",
     "output_type": "stream",
     "text": [
      "-2^2= -4\n",
      "-2^3= -8\n",
      "2^3= 8\n",
      "(-2)^2= 4\n"
     ]
    }
   ],
   "source": [
    "\n",
    "print('-2^2=',-2**2)\n",
    "print('-2^3=',-2**3)\n",
    "print('2^3=',2**3)\n",
    "print('(-2)^2=',(-2)**2)"
   ]
  },
  {
   "cell_type": "markdown",
   "metadata": {},
   "source": [
    "So, it will be safty to use brackets to exponentiation."
   ]
  },
  {
   "cell_type": "code",
   "execution_count": 14,
   "metadata": {},
   "outputs": [
    {
     "data": {
      "text/plain": [
       "'0.2999999999999999888978'"
      ]
     },
     "execution_count": 14,
     "metadata": {},
     "output_type": "execute_result"
    }
   ],
   "source": [
    "x=2\n",
    "format(0.3, '.22f')\n",
    "# x.conjugate()"
   ]
  },
  {
   "cell_type": "markdown",
   "metadata": {},
   "source": [
    "Strings...\n",
    "\n",
    "`print('tekst', end='.')` gives an dot . at the end.\n",
    "Lets check what gives r in the begining - `print(r'text with \\\\\\')`"
   ]
  },
  {
   "cell_type": "code",
   "execution_count": 18,
   "metadata": {},
   "outputs": [
    {
     "name": "stdout",
     "output_type": "stream",
     "text": [
      "test \\n test he he"
     ]
    }
   ],
   "source": [
    "print(r'test \\n test', end=\" he he\")"
   ]
  },
  {
   "cell_type": "code",
   "execution_count": 20,
   "metadata": {},
   "outputs": [
    {
     "data": {
      "text/plain": [
       "'i'"
      ]
     },
     "execution_count": 20,
     "metadata": {},
     "output_type": "execute_result"
    }
   ],
   "source": [
    "x='Mileonka'\n",
    "x[1:2:3]"
   ]
  },
  {
   "cell_type": "markdown",
   "metadata": {},
   "source": [
    "[] are for LIST\n",
    "\n",
    "() are for Tuple, don't try to change it! ;)\n",
    "\n",
    "* .append()\n",
    "* .remove(1) - remove value 1 form list, but not one, but fisrt one in the row.\n",
    "* .clear()\n",
    "*  .copy()\n",
    "* deepcopy() - recurent but remember to `iport copy`\n",
    "\n"
   ]
  },
  {
   "cell_type": "markdown",
   "metadata": {},
   "source": [
    "# FOR\n",
    "\n",
    "`zip()` when we use in `for` a `zip()` function we can itarete multiple objetcs, example:\n",
    "```python\n",
    "x='bekon'\n",
    "y='mielonka'\n",
    "z=[1,2,3,4,5,6]\n",
    "\n",
    "for el in zip(x,y,z):\n",
    "    print(el)\n",
    "```\n",
    "It will print all, but **only** in amount of shortest object. Other words - `x='bekon'` is the shortest so it will be only **5** elements from each object!"
   ]
  },
  {
   "cell_type": "code",
   "execution_count": 21,
   "metadata": {},
   "outputs": [
    {
     "name": "stdout",
     "output_type": "stream",
     "text": [
      "('b', 'm', 1)\n",
      "('e', 'i', 2)\n",
      "('k', 'e', 3)\n",
      "('o', 'l', 4)\n",
      "('n', 'o', 5)\n"
     ]
    }
   ],
   "source": [
    "x='bekon'\n",
    "y='mielonka'\n",
    "z=[1,2,3,4,5,6]\n",
    "\n",
    "for el in zip(x,y,z):\n",
    "    print(el)"
   ]
  },
  {
   "cell_type": "markdown",
   "metadata": {},
   "source": [
    "`[ wyrazenie(nazwa) FOR nazwa in obiekt do iteracji IF warunek_LOgiczny nazwa]`\n",
    "or\n",
    "```python\n",
    "[(x,y) for x in range(5)\n",
    "        for y in range (8)\n",
    "        if x<y ]\n",
    "```\n"
   ]
  },
  {
   "cell_type": "code",
   "execution_count": 35,
   "metadata": {},
   "outputs": [
    {
     "data": {
      "text/plain": [
       "[1, 64, 225, 484, 841, 1296, 1849]"
      ]
     },
     "execution_count": 35,
     "metadata": {},
     "output_type": "execute_result"
    }
   ],
   "source": [
    "[a**2 for a in range(50) if a%7==1]"
   ]
  },
  {
   "cell_type": "code",
   "execution_count": 36,
   "metadata": {},
   "outputs": [
    {
     "data": {
      "text/plain": [
       "[0, 0, 1, 1, 2, 2, 3, 3, 4, 4, 5, 5, 6, 6, 7]"
      ]
     },
     "execution_count": 36,
     "metadata": {},
     "output_type": "execute_result"
    }
   ],
   "source": [
    "[a//2 for a in range(15)]"
   ]
  },
  {
   "cell_type": "code",
   "execution_count": 40,
   "metadata": {},
   "outputs": [
    {
     "data": {
      "text/plain": [
       "[-5, 0, 0, 1, 2, 2, 2, 2, 2, 3, 4, 5, 5, 5, 8, 8, 9, 12, 16, 34, 44]"
      ]
     },
     "execution_count": 40,
     "metadata": {},
     "output_type": "execute_result"
    }
   ],
   "source": [
    "def quick_sort(x):\n",
    "    if len(x) <=1:\n",
    "        return x\n",
    "    v=x[0]\n",
    "    l=quick_sort([ a for a in x if a  < v])\n",
    "    m=           [ a for a in x if a == v]\n",
    "    r=quick_sort([ a for a in x if a  > v])\n",
    "    return l+m+r\n",
    "\n",
    "test=[8,3,1,4,5,2,2,2,44,2,0,5,2,16,12,34,5,9,8,-2-3,-0]\n",
    "quick_sort(test)\n",
    "    "
   ]
  }
 ],
 "metadata": {
  "kernelspec": {
   "display_name": "Python 3",
   "language": "python",
   "name": "python3"
  },
  "language_info": {
   "codemirror_mode": {
    "name": "ipython",
    "version": 3
   },
   "file_extension": ".py",
   "mimetype": "text/x-python",
   "name": "python",
   "nbconvert_exporter": "python",
   "pygments_lexer": "ipython3",
   "version": "3.6.7"
  }
 },
 "nbformat": 4,
 "nbformat_minor": 2
}
