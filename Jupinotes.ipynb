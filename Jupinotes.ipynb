{
 "cells": [
  {
   "cell_type": "markdown",
   "metadata": {},
   "source": [
    "This is a test Markdown file, for create for *Markdown* & **GIT** learning.\n",
    "\n",
    "#  Who I am?\n",
    "\n",
    "Hi!, I am Hubert and currently I am working as a mechanical engineer but I am interestning programing and data science.\n",
    "The best I know old fashioned language FORTRAN that is still used in many corporations and institiutions eg. NASA.\n",
    "Do you know that MATLAB and ANSYS was build on it? First Matlab was create in '80 by profesor [Cleve Moler](https://en.wikipedia.org/wiki/Cleve_Moler) for his students who use Linear Algebra numerical packages and don't know FORTRAN. Check also [here](https://en.wikipedia.org/wiki/MATLAB#History) on Matlab Wiki  page. \n",
    "\n",
    "I also have basics knowladge of:\n",
    "* Python\n",
    "* R\n",
    "* SQL\n",
    "* Matlab/Octave\n",
    "\n",
    "and some very small about C/C++ and many years ago I was learnig Pascal.\n",
    "\n",
    "## Few other things\n",
    "My kaggle and GIT login is *hrachubi*. It is first letter of First Name and &7& letters from my Last Name. This way we received logins at Department of Technical Physcics and Mathematics on Technical University of Gdansk. I use this login also on other platforms. \n",
    "\n",
    "On both pages I have account from few years but both are almost empty. I created both of them few years ago when I did some courses in Data Science but I didn't use it until now.\n",
    "\n",
    "I want to check math in markdown so I write the most beautifull math equation:\n",
    "\n",
    "$$e^{i\\pi}+1=0$$\n",
    "\n",
    "So, if this use $\\tex$ notation I wonder if I can use equation numbering. I will check it later. \n",
    "\n",
    "Thanks for reading that,\n",
    "                    \n",
    "Hubert"
   ]
  }
 ],
 "metadata": {
  "kernelspec": {
   "display_name": "Python 3",
   "language": "python",
   "name": "python3"
  },
  "language_info": {
   "codemirror_mode": {
    "name": "ipython",
    "version": 3
   },
   "file_extension": ".py",
   "mimetype": "text/x-python",
   "name": "python",
   "nbconvert_exporter": "python",
   "pygments_lexer": "ipython3",
   "version": "3.6.7"
  }
 },
 "nbformat": 4,
 "nbformat_minor": 2
}
